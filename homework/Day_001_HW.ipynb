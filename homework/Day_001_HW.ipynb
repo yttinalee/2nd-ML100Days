{
 "cells": [
  {
   "cell_type": "code",
   "execution_count": null,
   "metadata": {},
   "outputs": [],
   "source": [
    "DAY_1\n",
    "\n",
    "作業1:\n",
    "\n",
    "請上 Kaggle, 在 Competitions 或 Dataset 中找一組競賽或資料並寫下：\n",
    "\n",
    "https://www.kaggle.com/chrisfilo/example-brain-mapping-dataset\n",
    "\n",
    "1. 你選的這組資料為何重要\n",
    "\n",
    "The event related fMRI experiments can use a non-invasive way to know how brain function works during specific task. This may retest brain activity under the same fMRI task.\n",
    "\n",
    "2. 資料從何而來 (tips: 譬如提供者是誰、以什麼方式蒐集)\n",
    "\n",
    "The provider is Ken Treloar.\n",
    "This dataset was used pre-surgical planning of tumor resection to estimate which procedure of surgery is more safer to the patient. To made this goal, they were using single subject fMRI. By collected behavioral tasks: \n",
    "1. overt work repetition\n",
    "2.covert verb generation\n",
    "3.overt verb generation\n",
    "4.motor movements\n",
    "5.landmark\n",
    "with high resolution T1-weighted imaging, diffusion tensor imaging, five task with T2*-weighted event related fMRI.\n",
    "The MRI data used 1.5T GE Signa HDxt.\n",
    "\n",
    "3. 蒐集而來的資料型態為何\n",
    "\n",
    "3D imaging data\n",
    "4. 這組資料想解決的問題如何評估\n",
    "\n",
    "Brain surgery may have some risk that influence the function in our daily life. By using the fMRI and DTI pre-surgery scan used in pre-surgical planning. If the tumor did'nt influence the specific brain region, it may show normall function."
   ]
  },
  {
   "cell_type": "code",
   "execution_count": null,
   "metadata": {},
   "outputs": [],
   "source": [
    "作業2：\n",
    "\n",
    "想像你經營一個自由載客車隊，你希望能透過數據分析以提升業績，請你思考並描述你如何規劃整體的分析/解決方案：\n",
    "\n",
    "1. 核心問題為何 (tips：如何定義 「提升業績 & 你的假設」)\n",
    "\n",
    "Set total sum of the profits count by net value be the definition of the core problem.\n",
    "\n",
    "To elvaluate the performance by create more comfortable and fit the standard prize can make more custumers.\n",
    "\n",
    "Probably factors: \n",
    "1. Client inside the car feeling no comfortable.\n",
    "2.Client cant easliy get close with the fleet.\n",
    "3.Other fleet has lower prize.\n",
    "\n",
    "\n",
    "2. 資料從何而來 (tips：哪些資料可能會對你想問的問題產生影響 & 資料如何蒐集)\n",
    "\n",
    "from the screen on the taxi can show quessiotnnaire to get the data.\n",
    "\n",
    "3. 蒐集而來的資料型態為何\n",
    "\n",
    "questionnaire\n",
    "\n",
    "4. 你要回答的問題，其如何評估 (tips：你的假設如何驗證)\n",
    "\n",
    "1:  The more custumer will bring more value, by correlation between the numbers of clients and the income.\n",
    "\n",
    "2:  Compare income between inside is comfortable or not .\n",
    "\n",
    "3:  Compare between oneself and other's charge."
   ]
  },
  {
   "cell_type": "code",
   "execution_count": null,
   "metadata": {},
   "outputs": [],
   "source": [
    "作業3：\n",
    "\n",
    "請點選下方檢視範例依照 Day_001_example_of_metrics.ipynb 完成 Mean Squared Error 的函式\n",
    "\n",
    "##\n",
    "cd/C:/Users/user/Documents/GitHub/2nd-ML100Days/data\n"
   ]
  }
 ],
 "metadata": {
  "kernelspec": {
   "display_name": "Python 3",
   "language": "python",
   "name": "python3"
  },
  "language_info": {
   "codemirror_mode": {
    "name": "ipython",
    "version": 3
   },
   "file_extension": ".py",
   "mimetype": "text/x-python",
   "name": "python",
   "nbconvert_exporter": "python",
   "pygments_lexer": "ipython3",
   "version": "3.7.3"
  }
 },
 "nbformat": 4,
 "nbformat_minor": 2
}
